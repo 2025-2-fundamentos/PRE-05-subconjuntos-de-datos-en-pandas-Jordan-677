{
 "cells": [
  {
   "cell_type": "code",
   "execution_count": null,
   "id": "c2b88284",
   "metadata": {
    "vscode": {
     "languageId": "plaintext"
    }
   },
   "outputs": [],
   "source": [
    "import pandas as pd  #  type: ignore\n",
    "\n",
    "pd.set_option(\"display.notebook_repr_html\", True)"
   ]
  },
  {
   "cell_type": "code",
   "execution_count": null,
   "id": "620b2846",
   "metadata": {
    "vscode": {
     "languageId": "plaintext"
    }
   },
   "outputs": [],
   "source": [
    "# Carga del archivo desde un repo en GitHub\n",
    "truck_events = pd.read_csv(\"../files/input/truck_event_text_partition.csv\")\n",
    "\n",
    "# Cabecera del archivo\n",
    "truck_events.head()"
   ]
  },
  {
   "cell_type": "code",
   "execution_count": null,
   "id": "6d888b2b",
   "metadata": {
    "vscode": {
     "languageId": "plaintext"
    }
   },
   "outputs": [],
   "source": [
    "# Obtención de un subconjunto de registros\n",
    "# truck_events_subset = truck_events.head(10) \n",
    "truck_events_subset = truck_events[0:10]\n",
    "truck_events_subset"
   ]
  },
  {
   "cell_type": "code",
   "execution_count": null,
   "id": "97fc3075",
   "metadata": {
    "vscode": {
     "languageId": "plaintext"
    }
   },
   "outputs": [],
   "source": [
    "# Obtención de un subconjunto de columnas\n",
    "specific_columns = truck_events_subset[\n",
    "    [\"driverId\", \"eventTime\", \"eventType\"]\n",
    "]\n",
    "specific_columns"
   ]
  },
  {
   "cell_type": "code",
   "execution_count": null,
   "id": "c6221edf",
   "metadata": {
    "vscode": {
     "languageId": "plaintext"
    }
   },
   "outputs": [],
   "source": [
    "# Obtención de un subconjunto de filas y columnas\n",
    "new_sub_set = truck_events.loc[0:10, [\"driverId\", \"eventTime\", \"eventType\"]]\n",
    "new_sub_set"
   ]
  },
  {
   "cell_type": "code",
   "execution_count": null,
   "id": "543a7ae9",
   "metadata": {
    "vscode": {
     "languageId": "plaintext"
    }
   },
   "outputs": [],
   "source": [
    "# Obtención de un campo de un registro en particular\n",
    "truck_events.iloc[1]\n"
   ]
  },
  {
   "cell_type": "code",
   "execution_count": null,
   "id": "7d790bd8",
   "metadata": {
    "vscode": {
     "languageId": "plaintext"
    }
   },
   "outputs": [],
   "source": [
    "truck_events.iloc[1].eventKey"
   ]
  },
  {
   "cell_type": "code",
   "execution_count": null,
   "id": "72522b25",
   "metadata": {
    "vscode": {
     "languageId": "plaintext"
    }
   },
   "outputs": [],
   "source": [
    "truck_events.iloc[1][\"eventKey\"]"
   ]
  },
  {
   "cell_type": "code",
   "execution_count": null,
   "id": "aa12354e",
   "metadata": {
    "vscode": {
     "languageId": "plaintext"
    }
   },
   "outputs": [],
   "source": [
    "# Escritura de la tabla en el disco\n",
    "import os\n",
    "\n",
    "if not os.path.exists(\"../files/output/\"):\n",
    "    os.makedirs(\"../files/output/\")\n",
    "\n",
    "specific_columns.to_csv(\n",
    "    \"../files/output/specific-columns.csv\",\n",
    "    sep=\",\",\n",
    "    header=True,\n",
    "    index=True,\n",
    ")"
   ]
  }
 ],
 "metadata": {
  "language_info": {
   "name": "python"
  }
 },
 "nbformat": 4,
 "nbformat_minor": 5
}
